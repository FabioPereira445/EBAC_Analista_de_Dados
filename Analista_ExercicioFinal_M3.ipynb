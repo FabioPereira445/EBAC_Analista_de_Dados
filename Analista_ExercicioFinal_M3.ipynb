{
  "metadata": {
    "colab": {
      "provenance": [],
      "toc_visible": true,
      "name": "Analista_ExercicioFinal_M3"
    },
    "kernelspec": {
      "name": "python3",
      "display_name": "Python 3",
      "language": "python"
    },
    "language_info": {
      "name": "python",
      "version": "3.10.13",
      "mimetype": "text/x-python",
      "codemirror_mode": {
        "name": "ipython",
        "version": 3
      },
      "pygments_lexer": "ipython3",
      "nbconvert_exporter": "python",
      "file_extension": ".py"
    },
    "kaggle": {
      "accelerator": "none",
      "dataSources": [],
      "dockerImageVersionId": 30746,
      "isInternetEnabled": true,
      "language": "python",
      "sourceType": "notebook",
      "isGpuEnabled": false
    }
  },
  "nbformat_minor": 0,
  "nbformat": 4,
  "cells": [
    {
      "cell_type": "markdown",
      "source": [
        "<img src=\"https://raw.githubusercontent.com/andre-marcos-perez/ebac-course-utils/main/media/logo/newebac_logo_black_half.png\" alt=\"ebac-logo\">\n",
        "\n",
        "---\n",
        "\n",
        "# **Módulo** | Python: Fluxo Condicional & Repetição\n",
        "Caderno de **Exercícios**<br>\n",
        "Professor [André Perez](https://www.linkedin.com/in/andremarcosperez/)\n",
        "\n",
        "---"
      ],
      "metadata": {
        "id": "KJqp9AANOCtf"
      }
    },
    {
      "cell_type": "markdown",
      "source": [
        "# **Tópicos**\n",
        "\n",
        "<ol type=\"1\">\n",
        "  <li>Estrutura condicional if / else / elif;</li>\n",
        "  <li>Estrutura condicional try / catch / finally;</li>\n",
        "  <li>Estrutura de repetição for / in.</li>\n",
        "</ol>"
      ],
      "metadata": {
        "id": "d9jDtUbDOE1-"
      }
    },
    {
      "cell_type": "markdown",
      "source": [
        "---"
      ],
      "metadata": {
        "id": "SmoHgt-lwkpD"
      }
    },
    {
      "cell_type": "markdown",
      "source": [
        "# **Exercícios**"
      ],
      "metadata": {
        "id": "GABI6OW8OfQ2"
      }
    },
    {
      "cell_type": "markdown",
      "source": [
        "## 1\\. Estrutura condicional for / in"
      ],
      "metadata": {
        "id": "alcB9Hx-5LEV"
      }
    },
    {
      "cell_type": "markdown",
      "source": [
        "Na lista `propaganda_online` abaixo, estão presente os dados de usuários que acessaram um determinado site e se o mesmo clicou em uma propaganda.\n",
        "1º Exercício: Estrutura condicional for / in\n",
        "Parte 1\n",
        "Imprima os seguintes valores da lista: tempo_gasto_site e idade"
      ],
      "metadata": {
        "id": "rwA9WB0V5LEV"
      }
    },
    {
      "cell_type": "code",
      "source": [
        "# Lista de dicionários contendo dados de usuários\n",
        "propaganda_online = [\n",
        "  {'tempo_gasto_site': 68.95, 'idade': 35, 'renda_area': 61833.90, 'tempo_gasto_internet': 256.09, 'cidade': 'Wrightburgh', 'pais': 'Tunisia', 'clicou_no_ad': 0},\n",
        "  {'tempo_gasto_site': 80.23, 'idade': 31, 'renda_area': 68441.85, 'tempo_gasto_internet': 193.77, 'cidade': 'West Jodi', 'pais': 'Nauru', 'clicou_no_ad': 0},\n",
        "  {'tempo_gasto_site': 69.47, 'idade': 26, 'renda_area': 59785.94, 'tempo_gasto_internet': 236.50, 'cidade': 'Davidton', 'pais': 'San Marino', 'clicou_no_ad': 0},\n",
        "  {'tempo_gasto_site': 68.37, 'idade': 35, 'renda_area': 73889.99, 'tempo_gasto_internet': 225.58, 'cidade': 'South Manuel', 'pais': 'Iceland', 'clicou_no_ad': 0},\n",
        "  {'tempo_gasto_site': 88.91, 'idade': 33, 'renda_area': 53852.85, 'tempo_gasto_internet': 208.36, 'cidade': 'Brandonstad', 'pais': 'Myanmar', 'clicou_no_ad': 0},\n",
        "  {'tempo_gasto_site': None, 'idade': 48, 'renda_area': 24593.33, 'tempo_gasto_internet': 131.76, 'cidade': 'Port Jefferybury', 'pais': 'Australia', 'clicou_no_ad': 1},\n",
        "  {'tempo_gasto_site': 74.53, 'idade': 30, 'renda_area': 68862.00, 'tempo_gasto_internet': 221.51, 'cidade': 'West Colin', 'pais': 'Grenada'},\n",
        "  {'tempo_gasto_site': 69.88, 'idade': 20, 'renda_area': 55642.32, 'tempo_gasto_internet': 183.82, 'cidade': 'Ramirezton', 'pais': 'Ghana', 'clicou_no_ad': 0}\n",
        "]"
      ],
      "metadata": {
        "id": "OZnMxwiz5LEV",
        "execution": {
          "iopub.status.busy": "2024-08-06T12:17:24.932784Z",
          "iopub.execute_input": "2024-08-06T12:17:24.933202Z",
          "iopub.status.idle": "2024-08-06T12:17:24.979829Z",
          "shell.execute_reply.started": "2024-08-06T12:17:24.933169Z",
          "shell.execute_reply": "2024-08-06T12:17:24.978451Z"
        },
        "trusted": true
      },
      "execution_count": null,
      "outputs": []
    },
    {
      "cell_type": "code",
      "source": [
        "# Estrutura de repetição for para iterar sobre cada item (dicionário) na lista propaganda_online\n",
        "for item in propaganda_online:\n",
        "    # Imprime o valor associado à chave 'tempo_gasto_site' do dicionário atual\n",
        "    print(\"Tempo gasto no site:\", item['tempo_gasto_site'])\n",
        "    # Imprime o valor associado à chave 'idade' do dicionário atual\n",
        "    print(\"Idade:\", item['idade'])\n",
        "    # Imprime uma linha de separação para melhor visualização dos dados\n",
        "    print(\"-----\")"
      ],
      "metadata": {
        "id": "cyMWqs_t8pWA",
        "execution": {
          "iopub.status.busy": "2024-08-06T12:39:03.32177Z",
          "iopub.execute_input": "2024-08-06T12:39:03.322231Z",
          "iopub.status.idle": "2024-08-06T12:39:03.329442Z",
          "shell.execute_reply.started": "2024-08-06T12:39:03.322198Z",
          "shell.execute_reply": "2024-08-06T12:39:03.328208Z"
        },
        "trusted": true
      },
      "execution_count": null,
      "outputs": []
    },
    {
      "cell_type": "markdown",
      "source": [
        "Parte 2\n",
        "\n",
        "Extraia os valores da chave tempo_gasto_site\n",
        "\n",
        "for dado_de_usuario in propaganda_online:"
      ],
      "metadata": {
        "id": "3hfaj4oo5LEX"
      }
    },
    {
      "cell_type": "code",
      "source": [
        "# Este código irá extrair e imprimir os valores da chave 'tempo_gasto_site'\n",
        "# para cada item na lista 'propaganda_online'. Se o valor for None, será impressa a mensagem\n",
        "# \"Tempo gasto no site não disponível\"\n",
        "for dado_de_usuario in propaganda_online:\n",
        "    # Extrai o valor da chave 'tempo_gasto_site' do dicionário atual\n",
        "    tempo_gasto_site = dado_de_usuario.get('tempo_gasto_site')\n",
        "    # Verifica se o valor não é None\n",
        "    if tempo_gasto_site is not None:\n",
        "        # Imprime o valor do tempo gasto no site\n",
        "        print(\"Tempo gasto no site:\", tempo_gasto_site)\n",
        "    else:\n",
        "        # Imprime uma mensagem indicando que o tempo gasto no site não está disponível\n",
        "        print(\"Tempo gasto no site não disponível\")"
      ],
      "metadata": {
        "id": "9xWI4Q5v5LEX",
        "execution": {
          "iopub.status.busy": "2024-08-06T12:41:23.970081Z",
          "iopub.execute_input": "2024-08-06T12:41:23.970536Z",
          "iopub.status.idle": "2024-08-06T12:41:23.977852Z",
          "shell.execute_reply.started": "2024-08-06T12:41:23.970481Z",
          "shell.execute_reply": "2024-08-06T12:41:23.976484Z"
        },
        "trusted": true
      },
      "execution_count": null,
      "outputs": []
    },
    {
      "cell_type": "markdown",
      "source": [
        "Parte 3\n",
        "Extraia os valores da chave idade\n",
        "for dado_de_usuario in propaganda_online"
      ],
      "metadata": {
        "id": "EznQsI0y5LEX"
      }
    },
    {
      "cell_type": "code",
      "source": [
        "# Este código irá extrair e imprimir os valores da chave 'idade' para cada item na lista 'propaganda_online'\n",
        "for dado_de_usuario in propaganda_online:\n",
        "    # Extrai o valor da chave 'idade' do dicionário atual\n",
        "    idade = dado_de_usuario.get('idade')\n",
        "    # Imprime o valor da idade\n",
        "    print(\"Idade:\", idade)\n",
        "    # Imprime uma linha de separação para melhor visualização dos dados\n",
        "    print(\"-----\")"
      ],
      "metadata": {
        "id": "ElR3a-2C5LEY"
      },
      "execution_count": null,
      "outputs": []
    },
    {
      "cell_type": "markdown",
      "source": [
        "## 2\\. Estrutura condicional if / else"
      ],
      "metadata": {
        "id": "SAMpg_975LEY"
      }
    },
    {
      "cell_type": "markdown",
      "source": [
        "2.1. Utilize a estrutura if/else para imprimir a cidade dos usuários que gastaram mais de 100 horas de tempo na internet\n",
        "\n",
        "Dica: Após a iteração dos elementos da lista (Através da estrutura condicional FOR),  utilize a estrutura if/else para criar a condição dos valores da chave `tempo_gasto_internet`"
      ],
      "metadata": {
        "id": "QciRcGi35LEY"
      }
    },
    {
      "cell_type": "code",
      "source": [
        "\n",
        "# Utilize a estrutura if/else para imprimir a cidade dos usuários que gastaram mais de 100 horas de tempo na internet\n",
        "for dado_de_usuario in propaganda_online:\n",
        "    # Extrai o valor da chave 'tempo_gasto_internet' do dicionário atual\n",
        "    tempo_gasto_internet = dado_de_usuario.get('tempo_gasto_internet')\n",
        "    # Verifica se o valor não é None e se é maior que 100\n",
        "    if tempo_gasto_internet is not None and tempo_gasto_internet > 100:\n",
        "        # Extrai o valor da chave 'cidade' do dicionário atual\n",
        "        cidade = dado_de_usuario.get('cidade')\n",
        "        # Imprime a cidade do usuário que gastou mais de 100 horas na internet\n",
        "        print(\"Cidade do usuário que gastou mais de 100 horas na internet:\", cidade)"
      ],
      "metadata": {
        "id": "iJRwSe9y5LEY",
        "execution": {
          "iopub.status.busy": "2024-08-06T12:44:26.611905Z",
          "iopub.execute_input": "2024-08-06T12:44:26.612318Z",
          "iopub.status.idle": "2024-08-06T12:44:26.619533Z",
          "shell.execute_reply.started": "2024-08-06T12:44:26.612283Z",
          "shell.execute_reply": "2024-08-06T12:44:26.618374Z"
        },
        "trusted": true
      },
      "execution_count": null,
      "outputs": []
    },
    {
      "cell_type": "markdown",
      "source": [
        "## 3\\. Estrutura condicional try / except"
      ],
      "metadata": {
        "id": "Iua9_lQo5LEY"
      }
    },
    {
      "cell_type": "markdown",
      "source": [
        "3.1. Utilize a estrutura try/except para imprimir as cidades dos usuários que passaram mais de 70 segundos no site.\n",
        "\n",
        "Dica: Realize o tratamento de exceções dentro da execução da iteração dos elementos da lista"
      ],
      "metadata": {
        "id": "F7Vs25bq5LEY"
      }
    },
    {
      "cell_type": "code",
      "source": [
        "# Este código irá iterar sobre os elementos da lista 'propaganda_online'\n",
        "# e tentar acessar o valor da chave 'tempo_gasto_site'. Se o valor existir e for maior que 70,\n",
        "# ele irá extrair e imprimir a cidade do usuário correspondente.\n",
        "# Se ocorrer uma exceção KeyError, o bloco except será executado e a iteração continuará para o próximo elemento.\n",
        "for dado_de_usuario in propaganda_online:\n",
        "    try:\n",
        "        tempo_gasto_site = dado_de_usuario['tempo_gasto_site']\n",
        "        if tempo_gasto_site is not None and tempo_gasto_site > 70:\n",
        "            cidade = dado_de_usuario['cidade']\n",
        "            print(\"Cidade do usuário que passou mais de 70 segundos no site:\", cidade)\n",
        "    except KeyError:\n",
        "        pass"
      ],
      "metadata": {
        "id": "HJU_zItJ5LEZ"
      },
      "execution_count": null,
      "outputs": []
    },
    {
      "cell_type": "markdown",
      "source": [
        "---"
      ],
      "metadata": {
        "id": "zMN1Q3jdwoJm"
      }
    },
    {
      "cell_type": "markdown",
      "source": [
        "---"
      ],
      "metadata": {
        "id": "4_L-WULHAesN"
      }
    }
  ]
}